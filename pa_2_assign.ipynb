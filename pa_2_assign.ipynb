{
 "cells": [
  {
   "cell_type": "markdown",
   "id": "5ddd1498-58dc-44b2-aecf-e6e011c26c9b",
   "metadata": {},
   "source": [
    "Q1. List any five functions of the pandas library with execution."
   ]
  },
  {
   "cell_type": "code",
   "execution_count": 51,
   "id": "1bb27498-1d8a-4998-97d5-5e330fe70bf9",
   "metadata": {},
   "outputs": [],
   "source": [
    "# ans.1\n",
    "import pandas as pd\n",
    "df=pd.DataFrame({' Emp_id':[101,102,103,104],'Emp_name':['Anju','Ram','Rohit','Alfiya'],\"Age\":[19,20,30,45], 'salary':[15000,20000,45000,50000]})"
   ]
  },
  {
   "cell_type": "code",
   "execution_count": null,
   "id": "f05c4769-13ea-486d-ad80-2645e50b96b0",
   "metadata": {},
   "outputs": [],
   "source": [
    "# ans.1\n",
    "df"
   ]
  },
  {
   "cell_type": "code",
   "execution_count": null,
   "id": "a196761a-2f59-4a26-aa06-1736455dbea6",
   "metadata": {},
   "outputs": [],
   "source": [
    "df.head()"
   ]
  },
  {
   "cell_type": "code",
   "execution_count": null,
   "id": "93e15ddd-5969-46ad-afbc-4d7c6f9d5a0c",
   "metadata": {},
   "outputs": [],
   "source": [
    "df.info"
   ]
  },
  {
   "cell_type": "code",
   "execution_count": null,
   "id": "a4657d2e-7741-4755-b9a2-bd8d35efe921",
   "metadata": {},
   "outputs": [],
   "source": [
    "df.tail()"
   ]
  },
  {
   "cell_type": "code",
   "execution_count": null,
   "id": "88783392-9d86-47fc-8c81-a264b10a6540",
   "metadata": {},
   "outputs": [],
   "source": [
    "df.describe()"
   ]
  },
  {
   "cell_type": "code",
   "execution_count": null,
   "id": "ae3090cd-3868-438f-9bda-9c7ccf5a65ac",
   "metadata": {},
   "outputs": [],
   "source": [
    "df.columns"
   ]
  },
  {
   "cell_type": "code",
   "execution_count": null,
   "id": "0357ac05-f522-427d-8adf-9087cf49afbe",
   "metadata": {},
   "outputs": [],
   "source": [
    "df['Emp_name'].unique()"
   ]
  },
  {
   "cell_type": "code",
   "execution_count": null,
   "id": "782e749a-07b9-4de1-8730-9b642cef77a8",
   "metadata": {},
   "outputs": [],
   "source": [
    "df[' Emp_id'].nunique()"
   ]
  },
  {
   "cell_type": "raw",
   "id": "fd211da6-e691-4beb-b494-dc0690f99910",
   "metadata": {},
   "source": [
    "Q2. Given a Pandas DataFrame df with columns 'A', 'B', and 'C', write a Python function to re-index the\n",
    "DataFrame with a new index that starts from 1 and increments by 2 for each row."
   ]
  },
  {
   "cell_type": "code",
   "execution_count": null,
   "id": "7ef32b6c-d1b3-497b-8d9b-fbd833463058",
   "metadata": {},
   "outputs": [],
   "source": [
    "#ans.2\n",
    "\n",
    "import pandas as pd\n",
    "\n",
    "def reindex_dataframe(df):\n",
    "    new_index = pd.RangeIndex(start=1, stop=len(df) * 2, step=2)\n",
    "    df = df.set_index(new_index)\n",
    "    return df\n",
    "\n",
    "# Example usage:\n",
    "data = {'A': [10, 20, 30], 'B': [40, 50, 60], 'C': [70, 80, 90]}\n",
    "df = pd.DataFrame(data)\n",
    "\n",
    "new_df = reindex_dataframe(df)\n",
    "print(new_df)\n",
    "\n",
    "\n",
    "\n",
    "\n",
    "\n",
    "\n"
   ]
  },
  {
   "cell_type": "markdown",
   "id": "31ebdbef-edd8-4d5f-bf84-82eba10e0a12",
   "metadata": {},
   "source": [
    "Q3. You have a Pandas DataFrame df with a column named 'Values'. Write a Python function that\n",
    "iterates over the DataFrame and calculates the sum of the first three values in the 'Values' column. The\n",
    "function should print the sum to the console."
   ]
  },
  {
   "cell_type": "code",
   "execution_count": null,
   "id": "73f316bb-2e85-40ae-a7d5-e41d8c866968",
   "metadata": {},
   "outputs": [],
   "source": [
    "# ans 3\n",
    "import pandas as pd\n",
    "\n",
    "def calculate_sum_of_first_three_values(df):\n",
    "    if 'Values' in df.columns:\n",
    "        first_three_values = df['Values'][:3]  # Extract the first three values\n",
    "        total_sum = first_three_values.sum()  # Calculate the sum\n",
    "        print(\"Sum of the first three values:\", total_sum)\n",
    "    else:\n",
    "        print(\"The 'Values' column does not exist in the DataFrame.\")\n",
    "\n",
    "# Example usage:\n",
    "data = {'Values': [10, 20, 30, 40, 50]}\n",
    "df = pd.DataFrame(data)\n",
    "\n",
    "calculate_sum_of_first_three_values(df)"
   ]
  },
  {
   "cell_type": "markdown",
   "id": "af6979a7-fc7d-469a-8dbb-336b94d59927",
   "metadata": {},
   "source": [
    "Q4. Given a Pandas DataFrame df with a column 'Text', write a Python function to create a new column\n",
    "'Word_Count' that contains the number of words in each row of the 'Text' column."
   ]
  },
  {
   "cell_type": "code",
   "execution_count": 35,
   "id": "dc354d77-0289-48ca-9e69-a55c3a247b97",
   "metadata": {},
   "outputs": [
    {
     "name": "stdout",
     "output_type": "stream",
     "text": [
      "                                       Text  Word_Count\n",
      "0              This is an example sentence.           5\n",
      "1  Here's another sentence with more words.           6\n",
      "2                            Only one word.           3\n"
     ]
    }
   ],
   "source": [
    "# ans.4\n",
    "import pandas as pd\n",
    "\n",
    "# Sample DataFrame\n",
    "data = {'Text': [\"This is an example sentence.\",\n",
    "                 \"Here's another sentence with more words.\",\n",
    "                 \"Only one word.\"]}\n",
    "df = pd.DataFrame(data)\n",
    "\n",
    "def count_words(text):\n",
    "    # Split the text into words and return the count\n",
    "    words = text.split()\n",
    "    return len(words)\n",
    "\n",
    "# Apply the count_words function to create the 'Word_Count' column\n",
    "df['Word_Count'] = df['Text'].apply(count_words)\n",
    "\n",
    "# Display the DataFrame\n",
    "print(df)\n",
    "\n",
    "\n",
    "\n",
    "\n",
    "\n",
    "\n"
   ]
  },
  {
   "cell_type": "markdown",
   "id": "78105537-1af1-4aee-b4c3-d4234b2efdb5",
   "metadata": {},
   "source": [
    "Q5. How are DataFrame.size() and DataFrame.shape() different?"
   ]
  },
  {
   "cell_type": "code",
   "execution_count": 34,
   "id": "6c767de6-33d5-4cb9-925a-311f8420f997",
   "metadata": {},
   "outputs": [
    {
     "name": "stdout",
     "output_type": "stream",
     "text": [
      "DataFrame size: 6\n",
      "DataFrame shape: (3, 2)\n"
     ]
    }
   ],
   "source": [
    "#ans.5\n",
    "data = {'A': [1, 2, 3], 'B': [4, 5, 6]}\n",
    "df = pd.DataFrame(data)\n",
    "\n",
    "# Using df.size to get the total number of elements\n",
    "size = df.size  # This returns 6 (3 rows x 2 columns)\n",
    "\n",
    "# Using df.shape to get the dimensions\n",
    "shape = df.shape  # This returns (3, 2), indicating 3 rows and 2 columns\n",
    "\n",
    "print(\"DataFrame size:\", size)\n",
    "print(\"DataFrame shape:\", shape)"
   ]
  },
  {
   "cell_type": "markdown",
   "id": "90e9a7c2-8a26-4db9-9c3b-50a65ebd56c6",
   "metadata": {},
   "source": [
    "Q6. Which function of pandas do we use to read an excel file?"
   ]
  },
  {
   "cell_type": "code",
   "execution_count": 28,
   "id": "064883c3-973e-4f5f-aa41-d3f11f5c251d",
   "metadata": {},
   "outputs": [],
   "source": [
    "# ans.6\n",
    "#In Pandas, you can use the pandas.read_excel() function to read data from an Excel file. This function is part of the Pandas library and is designed to read data from Excel files into a Pandas DataFrame\n",
    "# Reading an Excel file into a Pandas DataFrame\n",
    "#df = pd.read_excel('your_excel_file.xlsx')\n",
    "\n",
    "# You can also specify the sheet name if the Excel file has multiple sheets:\n",
    "# df = pd.read_excel('your_excel_file.xlsx', sheet_name='Sheet1')\n",
    "\n",
    "# Print the DataFrame\n",
    "#print(df)\n"
   ]
  },
  {
   "cell_type": "markdown",
   "id": "2ac1eca4-69b2-45f6-9cad-b03124a63ee8",
   "metadata": {},
   "source": [
    "Q7. You have a Pandas DataFrame df that contains a column named 'Email' that contains email\n",
    "addresses in the format 'username@domain.com'. Write a Python function that creates a new column\n",
    "'Username' in df that contains only the username part of each email address.\n",
    "The username is the part of the email address that appears before the '@' symbol. For example, if the\n",
    "email address is 'john.doe@example.com', the 'Username' column should contain 'john.doe'. Your\n",
    "function should extract the username from each email address and store it in the new 'Username'\n",
    "column."
   ]
  },
  {
   "cell_type": "code",
   "execution_count": 33,
   "id": "ebd2902d-6f63-4648-a44b-2f383cdd8613",
   "metadata": {},
   "outputs": [
    {
     "name": "stdout",
     "output_type": "stream",
     "text": [
      "                    Email    Username\n",
      "0    john.doe@example.com    john.doe\n",
      "1  jane.smith@example.com  jane.smith\n",
      "2         bob@example.com         bob\n"
     ]
    }
   ],
   "source": [
    "#ans.7\n",
    "import pandas as pd\n",
    "\n",
    "# Sample DataFrame\n",
    "data = {'Email': ['john.doe@example.com', 'jane.smith@example.com', 'bob@example.com']}\n",
    "df = pd.DataFrame(data)\n",
    "\n",
    "def extract_username(email):\n",
    "    # Split the email address at '@' and return the first part\n",
    "    return email.split('@')[0]\n",
    "\n",
    "# Apply the extract_username function to create the 'Username' column\n",
    "df['Username'] = df['Email'].apply(extract_username)\n",
    "\n",
    "# Display the updated DataFrame\n",
    "print(df)\n",
    "#In this code, we first create a sample DataFrame 'df' with an 'Email' column. Then, we define a custom function extract_username that takes an email address as input, splits it at the '@' symbol using .split('@'), and returns the first part, which is the username. Next, we use the .apply() method to apply this function to each row in the 'Email' column and create the 'Username' column in the DataFrame. Finally, we display the updated DataFrame.\n",
    "\n",
    "#The output will be a DataFrame with the 'Username' column containing the extracted username parts from the 'Email' \n",
    "\n",
    "\n",
    "\n",
    "\n",
    "\n",
    "\n"
   ]
  },
  {
   "cell_type": "markdown",
   "id": "c53c0b02-cbc5-4ae0-ad0d-cbe9df766654",
   "metadata": {},
   "source": [
    "Q8. You have a Pandas DataFrame df with columns 'A', 'B', and 'C'. Write a Python function that selects\n",
    "all rows where the value in column 'A' is greater than 5 and the value in column 'B' is less than 10. The\n",
    "function should return a new DataFrame that contains only the selected rows.\n",
    "For example, if df contains the following values:\n",
    "A B C\n",
    "0 3 5 1\n",
    "1 8 2 7\n",
    "2 6 9 4\n",
    "3 2 3 5\n",
    "4 9 1 2\n",
    "Your function should select the following rows: A B C\n",
    "1 8 2 7\n",
    "4 9 1 2\n",
    "The function should return a new DataFrame that contains only the selected rows."
   ]
  },
  {
   "cell_type": "code",
   "execution_count": 36,
   "id": "6cbf60cd-a509-4eb2-b701-4bcd9cde5c05",
   "metadata": {},
   "outputs": [
    {
     "name": "stdout",
     "output_type": "stream",
     "text": [
      "   A  B  C\n",
      "1  8  2  7\n",
      "2  6  9  4\n",
      "4  9  1  2\n"
     ]
    }
   ],
   "source": [
    "# ans.8\n",
    "data = {'A': [3, 8, 6, 2, 9],\n",
    "        'B': [5, 2, 9, 3, 1],\n",
    "        'C': [1, 7, 4, 5, 2]}\n",
    "df = pd.DataFrame(data)\n",
    "\n",
    "def select_rows(df):\n",
    "    selected_rows = df[(df['A'] > 5) & (df['B'] < 10)]\n",
    "    return selected_rows\n",
    "\n",
    "# Example usage:\n",
    "selected_df = select_rows(df)\n",
    "print(selected_df)\n"
   ]
  },
  {
   "cell_type": "markdown",
   "id": "a13fc319-993b-4a7a-bf79-fa10d2f603bb",
   "metadata": {},
   "source": [
    "Q9. Given a Pandas DataFrame df with a column 'Values', write a Python function to calculate the mean,\n",
    "median, and standard deviation of the values in the 'Values' column.\n",
    "Q10. Given a Pandas DataFrame df with a column 'Sales' and a column 'Date', write a Python function to\n",
    "create a new column 'MovingAverage' that contains the moving average of the sales for the past 7 days\n",
    "for each row in the DataFrame. The moving average should be calculated using a window of size 7 and\n",
    "should include the current day."
   ]
  },
  {
   "cell_type": "code",
   "execution_count": 37,
   "id": "7fff3223-8e77-43cf-9432-3cf7557c4d18",
   "metadata": {},
   "outputs": [
    {
     "name": "stdout",
     "output_type": "stream",
     "text": [
      "Mean: 30.0\n",
      "Median: 30.0\n",
      "Standard Deviation: 15.811388300841896\n"
     ]
    }
   ],
   "source": [
    " #ans.9\n",
    " data = {'Values': [10, 20, 30, 40, 50]}\n",
    "df = pd.DataFrame(data)\n",
    "\n",
    "def calculate_stats(df):\n",
    "    mean = df['Values'].mean()\n",
    "    median = df['Values'].median()\n",
    "    std_dev = df['Values'].std()\n",
    "    return mean, median, std_dev\n",
    "\n",
    "# Example usage:\n",
    "mean, median, std_dev = calculate_stats(df)\n",
    "print(\"Mean:\", mean)\n",
    "print(\"Median:\", median)\n",
    "print(\"Standard Deviation:\", std_dev)\n"
   ]
  },
  {
   "cell_type": "markdown",
   "id": "eb305dae-5973-44d0-b298-25cd58988bd4",
   "metadata": {},
   "source": [
    "Q10. Given a Pandas DataFrame df with a column 'Sales' and a column 'Date', write a Python function to\n",
    "create a new column 'MovingAverage' that contains the moving average of the sales for the past 7 days\n",
    "for each row in the DataFrame. The moving average should be calculated using a window of size 7 and\n",
    "should include the current day."
   ]
  },
  {
   "cell_type": "code",
   "execution_count": 41,
   "id": "9a85d96d-e24b-439a-be5a-fce5f03cd13a",
   "metadata": {},
   "outputs": [
    {
     "name": "stdout",
     "output_type": "stream",
     "text": [
      "        Date  Sales  MovingAverage\n",
      "0 2023-01-01    100          100.0\n",
      "1 2023-01-02    110          105.0\n",
      "2 2023-01-03    120          110.0\n",
      "3 2023-01-04    130          115.0\n",
      "4 2023-01-05    140          120.0\n",
      "5 2023-01-06    150          125.0\n",
      "6 2023-01-07    160          130.0\n",
      "7 2023-01-08    170          140.0\n",
      "8 2023-01-09    180          150.0\n",
      "9 2023-01-10    190          160.0\n"
     ]
    }
   ],
   "source": [
    "# ans 10\n",
    "data = {'Date': pd.date_range(start='2023-01-01', periods=10, freq='D'),\n",
    "        'Sales': [100, 110, 120, 130, 140, 150, 160, 170, 180, 190]}\n",
    "df = pd.DataFrame(data)\n",
    "\n",
    "def calculate_moving_average(df, window_size=7):\n",
    "    df['MovingAverage'] = df['Sales'].rolling(window=window_size, min_periods=1).mean()\n",
    "    return df\n",
    "\n",
    "# Example usage:\n",
    "result_df = calculate_moving_average(df, window_size=7)\n",
    "print(result_df)\n",
    "\n",
    "\n",
    "\n",
    "\n",
    "\n",
    "\n"
   ]
  },
  {
   "cell_type": "markdown",
   "id": "893cfab4-bd63-406a-8096-cb8781030057",
   "metadata": {},
   "source": [
    "Q11. You have a Pandas DataFrame df with a column 'Date'. Write a Python function that creates a new\n",
    "column 'Weekday' in the DataFrame. The 'Weekday' column should contain the weekday name (e.g.\n",
    "Monday, Tuesday) corresponding to each date in the 'Date' column.\n",
    "For example, if df contains the following values:\n",
    "Date\n",
    "0 2023-01-01\n",
    "1 2023-01-02\n",
    "2 2023-01-03\n",
    "3 2023-01-04\n",
    "4 2023-01-05\n",
    "Your function should create the following DataFrame:\n",
    "\n",
    "Date Weekday\n",
    "0 2023-01-01 Sunday\n",
    "1 2023-01-02 Monday\n",
    "2 2023-01-03 Tuesday\n",
    "3 2023-01-04 Wednesday\n",
    "4 2023-01-05 Thursday\n",
    "The function should return the modified DataFrame."
   ]
  },
  {
   "cell_type": "markdown",
   "id": "adfe4834-bf0d-40e2-b5f8-0cf9fd46eb4f",
   "metadata": {},
   "source": [
    "Q11. You have a Pandas DataFrame df with a column 'Date'. Write a Python function that creates a new\n",
    "column 'Weekday' in the DataFrame. The 'Weekday' column should contain the weekday name (e.g.\n",
    "Monday, Tuesday) corresponding to each date in the 'Date' column.\n",
    "For example, if df contains the following values:\n",
    "Date\n",
    "0 2023-01-01\n",
    "1 2023-01-02\n",
    "2 2023-01-03\n",
    "3 2023-01-04\n",
    "4 2023-01-05\n",
    "Your function should create the following DataFrame:\n",
    "\n",
    "Date Weekday\n",
    "0 2023-01-01 Sunday\n",
    "1 2023-01-02 Monday\n",
    "2 2023-01-03 Tuesday\n",
    "3 2023-01-04 Wednesday\n",
    "4 2023-01-05 Thursday\n",
    "The function should return the modified DataFrame."
   ]
  },
  {
   "cell_type": "code",
   "execution_count": 45,
   "id": "f9485655-eaf4-459f-805b-901e9cbf89d2",
   "metadata": {},
   "outputs": [
    {
     "name": "stdout",
     "output_type": "stream",
     "text": [
      "        Date    Weekday\n",
      "0 2023-01-01     Sunday\n",
      "1 2023-01-02     Monday\n",
      "2 2023-01-03    Tuesday\n",
      "3 2023-01-04  Wednesday\n",
      "4 2023-01-05   Thursday\n"
     ]
    }
   ],
   "source": [
    "# ans 11\n",
    "import pandas as pd\n",
    "\n",
    "# Sample DataFrame\n",
    "data = {'Date': ['2023-01-01', '2023-01-02', '2023-01-03', '2023-01-04', '2023-01-05']}\n",
    "df = pd.DataFrame(data)\n",
    "\n",
    "def add_weekday_column(df):\n",
    "    df['Date'] = pd.to_datetime(df['Date'])  # Convert 'Date' column to datetime\n",
    "    df['Weekday'] = df['Date'].dt.strftime('%A')  # Extract weekday names\n",
    "    return df\n",
    "\n",
    "# Example usage:\n",
    "result_df = add_weekday_column(df)\n",
    "print(result_df)\n",
    "#In this code, we first create a sample DataFrame 'df' with a 'Date' column. Then, we define a custom function add_weekday_column that performs the following steps:\n",
    "\n",
    "#Convert the 'Date' column to datetime using pd.to_datetime() to ensure it's in the correct date format.\n",
    "\n",
    "#Use dt.strftime('%A') to extract the weekday names (e.g., 'Sunday', 'Monday') and create the 'Weekday' column.\n",
    "\n",
    "#The result is a modified DataFrame with the 'Weekday' column containing the weekday names corresponding to the 'Date' column.\n",
    "\n",
    "\n",
    "\n",
    "\n",
    "\n",
    "\n"
   ]
  },
  {
   "cell_type": "markdown",
   "id": "66b0380c-1171-4ca2-b363-aa10c97c479e",
   "metadata": {},
   "source": [
    "Q12. Given a Pandas DataFrame df with a column 'Date' that contains timestamps, write a Python\n",
    "function to select all rows where the date is between '2023-01-01' and '2023-01-31'."
   ]
  },
  {
   "cell_type": "code",
   "execution_count": 47,
   "id": "c7488dcb-20ad-436b-978a-12f37d8a1cf2",
   "metadata": {},
   "outputs": [
    {
     "name": "stdout",
     "output_type": "stream",
     "text": [
      "        Date\n",
      "0 2023-01-01\n",
      "1 2023-01-15\n",
      "2 2023-01-20\n"
     ]
    }
   ],
   "source": [
    "# ans.12\n",
    "# Sample DataFrame\n",
    "data = {'Date': ['2023-01-01', '2023-01-15', '2023-01-20', '2023-02-05', '2023-03-10']}\n",
    "df = pd.DataFrame(data)\n",
    "\n",
    "def select_rows_in_date_range(df, start_date, end_date):\n",
    "    df['Date'] = pd.to_datetime(df['Date'])  # Convert 'Date' column to datetime\n",
    "    mask = (df['Date'] >= start_date) & (df['Date'] <= end_date)\n",
    "    selected_rows = df[mask]\n",
    "    return selected_rows\n",
    "\n",
    "# Example usage:\n",
    "start_date = pd.to_datetime('2023-01-01')\n",
    "end_date = pd.to_datetime('2023-01-31')\n",
    "\n",
    "result_df = select_rows_in_date_range(df, start_date, end_date)\n",
    "print(result_df)\n",
    "\n"
   ]
  },
  {
   "cell_type": "markdown",
   "id": "9daddb0f-4f0e-42c9-ada0-964ffc353463",
   "metadata": {},
   "source": [
    "Q13. To use the basic functions of pandas, what is the first and foremost necessary library that needs to\n",
    "be imported?"
   ]
  },
  {
   "cell_type": "code",
   "execution_count": 50,
   "id": "263a184d-5d74-4d40-96fe-b1da693a47f4",
   "metadata": {},
   "outputs": [],
   "source": [
    "#ans.13\n",
    "#To use the basic functions of pandas in Python, you need to import the pandas library. This is typically done using the import statement:\n",
    "\n",
    "import pandas as pd\n",
    "#the alias pd is often used as a shorthand for the pandas library, making it easier to reference pandas functions and objects in your code. Once you've imported pandas in this way, you can start using its data structures and functions for data manipulation and analysis.\n"
   ]
  },
  {
   "cell_type": "code",
   "execution_count": null,
   "id": "8288af1f-8d6b-4cc2-83e7-bdd4d7af5ee7",
   "metadata": {},
   "outputs": [],
   "source": []
  }
 ],
 "metadata": {
  "kernelspec": {
   "display_name": "Python 3 (ipykernel)",
   "language": "python",
   "name": "python3"
  },
  "language_info": {
   "codemirror_mode": {
    "name": "ipython",
    "version": 3
   },
   "file_extension": ".py",
   "mimetype": "text/x-python",
   "name": "python",
   "nbconvert_exporter": "python",
   "pygments_lexer": "ipython3",
   "version": "3.10.8"
  }
 },
 "nbformat": 4,
 "nbformat_minor": 5
}
